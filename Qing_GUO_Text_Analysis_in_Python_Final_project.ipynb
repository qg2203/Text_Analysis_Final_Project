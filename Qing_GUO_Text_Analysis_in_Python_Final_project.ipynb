{
  "nbformat": 4,
  "nbformat_minor": 0,
  "metadata": {
    "colab": {
      "provenance": [],
      "authorship_tag": "ABX9TyPwMkGV09LnGO1Ym/uOl3zV",
      "include_colab_link": true
    },
    "kernelspec": {
      "name": "python3",
      "display_name": "Python 3"
    },
    "language_info": {
      "name": "python"
    }
  },
  "cells": [
    {
      "cell_type": "markdown",
      "metadata": {
        "id": "view-in-github",
        "colab_type": "text"
      },
      "source": [
        "<a href=\"https://colab.research.google.com/github/qg2203/Text_Analysis_Final_Project/blob/main/Qing_GUO_Text_Analysis_in_Python_Final_project.ipynb\" target=\"_parent\"><img src=\"https://colab.research.google.com/assets/colab-badge.svg\" alt=\"Open In Colab\"/></a>"
      ]
    },
    {
      "cell_type": "markdown",
      "source": [
        "# **Exploring the Relationship between Company’ ESG and Innovation Performance**\n",
        "\n",
        "## I. Introduction:\n",
        "\n",
        "The global business landscape is witnessing a significant shift towards Environmental, Social, and Governance (ESG) considerations, reflecting a growing awareness of sustainability and responsible business practices. Innovations that prioritize ESG criteria are more likely to benefit society and the environment while creating companies' long-term value. This research project aims to explore the relationship between a company's ESG performance and its innovation capabilities. By examining how companies communicate and implement ESG principles in their innovation efforts, this research can contribute to a better understanding of the dynamics between sustainability and innovation. Furthermore, this project will contribute to a better understanding of how ESG practices influence innovation and vice versa, as it holds implications for sustainable business practices, corporate growth, and public policy.\n",
        "\n",
        "## II. Hypothesis:\n",
        "\n",
        "In this research, I hypothesize companies frequently mention both ESG factors and innovation in their public documents, indicating a recognized and emphasized connection between sustainable practices and innovative strategies. It implies that companies acknowledge and highlight the interplay between their commitment to sustainable practices and their pursuit of innovative initiatives. I also anticipate that there is a positive relationship between a company's strong ESG performance and its innovation efforts.\n",
        "\n",
        "## III. Methodology:\n",
        "\n",
        "### A. Data Collection and Preparation:\n",
        "\n",
        "  - Company Selection (4 Companies): A diverse set of 4 companies will be selected, acknowledging the potential for bias. I will consider factors such as industry diversity, market capitalization, and geographic location to ensure a broad representation.\n",
        "\n",
        "  - Web Scraping to convert PDF to Text Analysis: Official company reports regarding ESG and innovation in PDF format will be scraped and converted into text files. This text data will be used for in-depth text mining and analysis.\n",
        "\n",
        "### B. Text Analysis & Data Visualization:\n",
        "\n",
        "  - Term Frequency Analysis:  I will adopt Term Frequency Analysis to determine the frequency of references to ESG and innovation in the text data. This analysis will help us identify the prominence of these terms in company documents.\n",
        "\n",
        "  - Contextual Analysis: To gain a deeper understanding of how ESG and innovation are mentioned, I will leverage Natural Language Processing (NLP) tools, such as NLTK, to analyze the context in which these terms appear in the text. This will involve examining sentences, paragraphs, and surrounding language for nuanced insights.\n",
        "\n",
        "  - Data Visualization: Data visualization(e.g Word clouds and bar charts) will be adopted in cases such as conducting term frequency analysis on references to ESG and innovation to further illustrate the relationships between these performances.\n",
        "\n",
        "### C.Expected Outcomes\n",
        "  - This project aims to yield the following outcomes:\n",
        "  - Insights into how companies communicate this relationship in their public documents and press releases. A basic understanding of the relationship between a company's ESG performance and its innovation performance.\n",
        "\n",
        "\n",
        "## IV. Text Anaylsis & Data Visualization:"
      ],
      "metadata": {
        "id": "W2h3K7d0_30i"
      }
    },
    {
      "cell_type": "markdown",
      "source": [
        "\n",
        "\n",
        "### Report 1: McKinsey 2022 ESG Full Report\n",
        "\n",
        "#### Extracting text from PDF file:\n",
        "\n",
        "Here I ask ChatGPT 'How to conduct text analysis on a PDF file'.\n"
      ],
      "metadata": {
        "id": "hAl6t0-U6kAO"
      }
    },
    {
      "cell_type": "code",
      "source": [
        "!pip install PyPDF2\n",
        "from PyPDF2 import PdfReader\n",
        "def pdf_to_text(pdf_path):\n",
        "    with open(pdf_path, \"rb\") as file:\n",
        "        reader = PdfReader(file)\n",
        "        text = \"\"\n",
        "        for page_num in range(len(reader.pages)):\n",
        "            page = reader.pages[page_num]\n",
        "            text += page.extract_text()\n",
        "    return text\n",
        "pdf_path = \"/content/McKinsey_2022_ESG_Full_Report.pdf\"\n",
        "\n",
        "extracted_text_Mckinsey = pdf_to_text(pdf_path)\n",
        "print(extracted_text_Mckinsey)"
      ],
      "metadata": {
        "id": "rav7YYoVveyl"
      },
      "execution_count": null,
      "outputs": []
    },
    {
      "cell_type": "markdown",
      "source": [
        "### Data Cleaning\n",
        "\n",
        "Then I am preparing the text for analysis by tokenizing, converting to lowercase, removing stopwords, and lemmatizing. The cleaned text is then stored in a file for further use. [Krisel,2023](https://github.com/rskrisel/intro_to_nltk/blob/main/Intro_NLTK_workshop.ipynb)"
      ],
      "metadata": {
        "id": "ar0hIn-n_D9p"
      }
    },
    {
      "cell_type": "code",
      "source": [
        "import nltk\n",
        "from nltk.corpus import stopwords\n",
        "from nltk.stem import WordNetLemmatizer\n",
        "from nltk import word_tokenize\n",
        "\n",
        "# Download necessary NLTK resources\n",
        "nltk.download(['stopwords', 'punkt', 'wordnet'])\n",
        "\n",
        "# Define stopwords and lemmatizer\n",
        "stops = set(stopwords.words(\"english\"))\n",
        "lemmatizer = WordNetLemmatizer()\n",
        "\n",
        "def clean_text(text):\n",
        "    \"\"\"\n",
        "    Clean and lemmatize text.\n",
        "    Converts words to lower case, removes stopwords and digits,\n",
        "    and maps related terms to a unified representative term.\n",
        "    \"\"\"\n",
        "    text_tokens = word_tokenize(text)\n",
        "    text_lower = [t.lower() for t in text_tokens if t.isalnum() and not t.isdigit()]\n",
        "    text_stops = [t for t in text_lower if t not in stops]\n",
        "\n",
        "    unified_terms = {\n",
        "        'sustainability': 'sustainability',\n",
        "        'sustainable': 'sustainability',\n",
        "        'innovation': 'innovation',\n",
        "        'innovative': 'innovation',\n",
        "        'innovate': 'innovation'\n",
        "    }\n",
        "\n",
        "\n",
        "    text_clean = [unified_terms.get(lemmatizer.lemmatize(t), t) for t in text_stops]\n",
        "    return text_clean\n",
        "\n",
        "cleaned_text_Mckinsey = clean_text(extracted_text_Mckinsey)\n",
        "\n",
        "# Store the cleaned text in a file\n",
        "with open(\"cleaned_text_Mckinsey.txt\", \"w\", encoding='utf-8') as file:\n",
        "    file.write(\" \".join(cleaned_text_Mckinsey))  # Join the cleaned text into a single string for writing to the file\n"
      ],
      "metadata": {
        "id": "7eWqLJxn-Wtc",
        "colab": {
          "base_uri": "https://localhost:8080/"
        },
        "outputId": "6175d802-4ffd-43df-bb99-21f73b5bfedf"
      },
      "execution_count": null,
      "outputs": [
        {
          "output_type": "stream",
          "name": "stderr",
          "text": [
            "[nltk_data] Downloading package stopwords to /root/nltk_data...\n",
            "[nltk_data]   Package stopwords is already up-to-date!\n",
            "[nltk_data] Downloading package punkt to /root/nltk_data...\n",
            "[nltk_data]   Package punkt is already up-to-date!\n",
            "[nltk_data] Downloading package wordnet to /root/nltk_data...\n",
            "[nltk_data]   Package wordnet is already up-to-date!\n"
          ]
        }
      ]
    },
    {
      "cell_type": "markdown",
      "source": [
        "### Term Frequency Analysis & Data Visualization\n",
        "\n",
        "Here I used Term Frequency Method to display the top 10 most common words"
      ],
      "metadata": {
        "id": "Ibm_N3-jECjX"
      }
    },
    {
      "cell_type": "code",
      "source": [
        "from nltk import FreqDist\n",
        "\n",
        "my_dist = FreqDist(cleaned_text_Mckinsey)\n",
        "\n",
        "# Display the most common words and their frequencies\n",
        "print(\"Top 10 Most Common Words:\")\n",
        "print(my_dist.most_common(10))"
      ],
      "metadata": {
        "id": "6G9u4yqJF08z",
        "colab": {
          "base_uri": "https://localhost:8080/"
        },
        "outputId": "7997326a-fc02-40bd-bb59-24d482df62e2"
      },
      "execution_count": null,
      "outputs": [
        {
          "output_type": "stream",
          "name": "stdout",
          "text": [
            "Top 10 Most Common Words:\n",
            "[('sustainability', 275), ('growth', 208), ('mckinsey', 203), ('inclusive', 199), ('colleagues', 190), ('responsible', 178), ('approach', 163), ('reporting', 162), ('firm', 158), ('esg', 154)]\n"
          ]
        }
      ]
    },
    {
      "cell_type": "markdown",
      "source": [
        "Then I use matplotlib to generate a horizontal bar chart that visualizes the frequency distribution of the top 20 words with the aim to gain insights into the most prevalent words in our cleaned_text document."
      ],
      "metadata": {
        "id": "hTjiqZgSPcuh"
      }
    },
    {
      "cell_type": "code",
      "source": [
        "import nltk\n",
        "from nltk import FreqDist\n",
        "import numpy as np\n",
        "import matplotlib.pyplot as plt\n",
        "\n",
        "my_dist = FreqDist(cleaned_text_Mckinsey)\n",
        "\n",
        "# Get the top 20 words and their frequencies\n",
        "top_words = [word[0] for word in my_dist.most_common(20)]\n",
        "word_frequencies = [word[1] for word in my_dist.most_common(20)]\n",
        "\n",
        "# Plot the bar chart\n",
        "plt.figure(figsize=(10, 8), dpi=80)\n",
        "colors = ['red' if word == 'sustainability' else 'orange' for word in top_words]\n",
        "plt.barh(top_words, word_frequencies, color=colors)\n",
        "plt.title('Top 20 Words')\n",
        "plt.xlabel('Frequency')\n",
        "plt.ylabel('Words')\n",
        "plt.show()"
      ],
      "metadata": {
        "colab": {
          "base_uri": "https://localhost:8080/",
          "height": 574
        },
        "id": "f9BM3oTwOOSS",
        "outputId": "ed9b666b-a1ed-4347-ffad-c15b70f2b88c"
      },
      "execution_count": null,
      "outputs": [
        {
          "output_type": "display_data",
          "data": {
            "text/plain": [
              "<Figure size 800x640 with 1 Axes>"
            ],
            "image/png": "[encoded data removed]"
          },
          "metadata": {}
        }
      ]
    },
    {
      "cell_type": "markdown",
      "source": [
        "I noticed there are some words that do not hold analytical values, so I exluded some words that are irrelevent to our analysis."
      ],
      "metadata": {
        "id": "QYPIPcGLOZz9"
      }
    },
    {
      "cell_type": "code",
      "source": [
        "import nltk\n",
        "from nltk import FreqDist\n",
        "import numpy as np\n",
        "import matplotlib.pyplot as plt\n",
        "\n",
        "my_dist = FreqDist(cleaned_text_Mckinsey)\n",
        "exclude_words = ['client', 'colleague','mckinsey','firm','work','program','team','new','global']\n",
        "filtered_dist = {word: freq for word, freq in my_dist.items() if word not in exclude_words}\n",
        "\n",
        "# Get the top 20 words and their frequencies\n",
        "top_words = [word[0] for word in FreqDist(filtered_dist).most_common(20)]\n",
        "word_frequencies = [word[1] for word in FreqDist(filtered_dist).most_common(20)]\n",
        "\n",
        "# Plot the bar chart\n",
        "plt.figure(figsize=(10, 8), dpi=80)\n",
        "colors=['red' if word == 'sustainability' else 'green' for word in top_words]\n",
        "plt.barh(top_words, word_frequencies, color=colors)\n",
        "plt.title('Top 20 Words')\n",
        "plt.xlabel('Frequency')\n",
        "plt.ylabel('Words')\n",
        "plt.show()"
      ],
      "metadata": {
        "id": "44PnG1IIIQQN",
        "colab": {
          "base_uri": "https://localhost:8080/",
          "height": 574
        },
        "outputId": "de45bcf7-d0b4-4be5-ad9d-9dc87a47ea27"
      },
      "execution_count": null,
      "outputs": [
        {
          "output_type": "display_data",
          "data": {
            "text/plain": [
              "<Figure size 800x640 with 1 Axes>"
            ],
            "image/png": "[encoded data removed]"
          },
          "metadata": {}
        }
      ]
    },
    {
      "cell_type": "markdown",
      "source": [
        "As we can see from the above that innovation is not part of the most common 20 words, so I am using FreqDist function to understand the frequency of the word 'innovation'"
      ],
      "metadata": {
        "id": "aEjAX6lrP05F"
      }
    },
    {
      "cell_type": "code",
      "source": [
        "from nltk import FreqDist\n",
        "\n",
        "my_dist = FreqDist(cleaned_text_Mckinsey)\n",
        "\n",
        "# Get the frequencies of the target words\n",
        "word_frequencies_innovation = my_dist['innovation']\n",
        "word_frequencies_sustainability = my_dist['sustainability']\n",
        "\n",
        "print(\"Term frequency of 'innovation':\", word_frequencies_innovation)\n",
        "print(\"Term frequency of ' sustainability':\", word_frequencies_sustainability)\n"
      ],
      "metadata": {
        "id": "wguNt0nVPMkE",
        "colab": {
          "base_uri": "https://localhost:8080/"
        },
        "outputId": "a261fe0d-a2a0-4823-f073-26e13c205064"
      },
      "execution_count": null,
      "outputs": [
        {
          "output_type": "stream",
          "name": "stdout",
          "text": [
            "Term frequency of 'innovation': 27\n",
            "Term frequency of ' sustainability': 275\n"
          ]
        }
      ]
    },
    {
      "cell_type": "markdown",
      "source": [
        "Here I generate a bar chart visualizing the term frequencies of 'sustainability' and 'innovation' using Seaborn, providing a quick visual comparison of the frequencies of these terms."
      ],
      "metadata": {
        "id": "A5x3-8liWZy-"
      }
    },
    {
      "cell_type": "code",
      "source": [
        "import pandas as pd\n",
        "import seaborn as sns\n",
        "\n",
        "# Create a DataFrame for term frequency\n",
        "term_freq_df = pd.DataFrame({'Term': ['sustainability', 'innovation'],\n",
        "                             'Frequency': [275, 27]})\n",
        "\n",
        "# Create a bar chart\n",
        "plt.figure(figsize=(8, 5))\n",
        "sns.barplot(x='Term', y='Frequency', data=term_freq_df, palette='viridis')\n",
        "plt.title('Term Frequency Bar Chart')\n",
        "plt.show()"
      ],
      "metadata": {
        "id": "Cxwsiya8VfsE",
        "colab": {
          "base_uri": "https://localhost:8080/",
          "height": 487
        },
        "outputId": "7a032a2b-af57-49a7-8770-71078d720da8"
      },
      "execution_count": null,
      "outputs": [
        {
          "output_type": "display_data",
          "data": {
            "text/plain": [
              "<Figure size 800x500 with 1 Axes>"
            ],
            "image/png": "[encoded data removed]"
          },
          "metadata": {}
        }
      ]
    },
    {
      "cell_type": "markdown",
      "source": [
        "### Corcordance Analysis"
      ],
      "metadata": {
        "id": "2y1nAhlOEtQO"
      }
    },
    {
      "cell_type": "markdown",
      "source": [
        "Then I used the concordance method to understand how \"sustainability\" and \"innovation\" are used in the cleaned_text by displaying the surrounding words. [Krisel,2023](https://github.com/rskrisel/intro_to_nltk/blob/main/Intro_NLTK_workshop.ipynb)"
      ],
      "metadata": {
        "id": "tEp0lNI5P0Ru"
      }
    },
    {
      "cell_type": "code",
      "source": [
        "import nltk\n",
        "from nltk import Text\n",
        "\n",
        "text_object = Text(cleaned_text_Mckinsey)\n",
        "\n",
        "# Find the concordance of 'sustainability'\n",
        "print(\"Concordance for 'sustainability':\")\n",
        "text_object.concordance(\"sustainability\",width=100,lines=20)\n",
        "\n",
        "# Find the concordance of 'innovation'\n",
        "print(\"\\nConcordance for 'innovation':\")\n",
        "text_object.concordance(\"innovation\",width=100,lines=20)\n"
      ],
      "metadata": {
        "id": "H_FlhnR0LAOC",
        "colab": {
          "base_uri": "https://localhost:8080/"
        },
        "outputId": "6555b79b-3d5d-4f3e-df28-f1626f17ef0c"
      },
      "execution_count": null,
      "outputs": [
        {
          "output_type": "stream",
          "name": "stdout",
          "text": [
            "Concordance for 'sustainability':\n",
            "Displaying 20 of 275 matches:\n",
            "esg report creating sustainability inclusive growing future portia dlamini so\n",
            "illed workforces around world introduction sustainability inclusive grow th responsible practices re\n",
            "hlights response war ukrainesustainability sustainability glance clients approach insights key publi\n",
            "assurance statement esg reportintroduction sustainability inclusive growth responsible practices rep\n",
            "ssage global managing partner accelerating sustainability inclusive growth world bob center speaking\n",
            "ver committed firm aspiration accelerating sustainability inclusive growth world done analysis asses\n",
            "talyzing decarbonization colleagues worked sustainability engagements clients across nearly countrie\n",
            "ro bono engagements esg reportintroduction sustainability inclusive growth responsible practices rep\n",
            " enduring change world aspire accelerating sustainability inclusive growth direct measurable impact \n",
            "hlights esg r eport esg reportintroduction sustainability inclusive growth responsible practices rep\n",
            "mpact climate change aspiration accelerate sustainability inclusive growth everywhere operate partne\n",
            "est insights client counsel efforts create sustainability inclusive world includes efforts accountab\n",
            "ties clients served esg reportintroduction sustainability inclusive growth responsible practices rep\n",
            "tices reporting approach moment accelerate sustainability inclusive growth leaders today rare opport\n",
            " organizations simultaneous pursuit growth sustainability inclusion presents believe leaders today m\n",
            "ng private sector catalyst decarbonization sustainability work clients investment million last two y\n",
            "ng new sources talent helping clients lead sustainability inclusive growth contributed global gdp gr\n",
            "ated publicly held clients mean accelerate sustainability inclusive growth mckinsey partners around \n",
            " around world weigh esg reportintroduction sustainability inclusive growth responsible practices rep\n",
            " ai technology suffuse work forming engine sustainability inclusive growth today nearly percent cons\n",
            "\n",
            "Concordance for 'innovation':\n",
            "Displaying 20 of 27 matches:\n",
            "p reskill upskill drive even economic growth innovation catalyzing decarbonization colleagues worked\n",
            "e source inspiration even bolder aspirations innovation years ahead us work never really done bob st\n",
            "tial growth lead transformative technologies innovation net zero build workforces thrive generation \n",
            "nt consultants digital practitioners harness innovation reach net zero help clients set strategy rea\n",
            "s knowledge deliver firm aspirations mission innovation client oversight mckinsey esg council consis\n",
            "th climate transition driving sustainability innovation unlocks next horizon growth pursuing nature \n",
            "th enduring earth uses project finance known innovation proven model fully funds conservation effort\n",
            "agenda growth could await businesses willing innovation quickly collaborate across value chains spot\n",
            "ique challenges metals mining companies need innovation rebuild growth agenda esg reportintroduction\n",
            "argest ever efforts protect tropical forests innovation approach financing continue active member sh\n",
            "formance digital capability centers advanced innovation learning hubs guide realization organization\n",
            "ct story jobsohio revitalizing state economy innovation solutions great recession ohio economy neede\n",
            "h strategy jobsohio broadened focus building innovation districts cleveland columbus cincinnati part\n",
            "on refine investment thesis focus developing innovation products drive revenue additional foreign in\n",
            "lity growth includes setting national center innovation pedagogy portfolio national virtual hybrid c\n",
            "itical enabling talent acquisition enhancing innovation improving customer insights strive serve cli\n",
            "external content providers learning research innovation lab developed contemporary apprenticeship mo\n",
            "are expectations explore areas collaboration innovation environmental sustainability finally green h\n",
            "gest private sector catalyst decarbonization innovation bold ideas tools technologies help clien ts \n",
            " efficiency economic performance responsible innovation importance mckinsey importance external stak\n"
          ]
        }
      ]
    },
    {
      "cell_type": "markdown",
      "source": [
        "Based on the above outcome, we can see that the coexistence of sustainability and innovation in various contexts implies an integrated approach, where innovation is seen as a driver for achieving sustainability goals, more specifically:\n",
        "\n",
        "For Sustainability:\n",
        "The term 'sustainability' appears frequently in various contexts, such as discussions about responsible practices, engagement with clients on sustainability, and the pursuit of inclusive and environmentally conscious growth.\n",
        "References to decarbonization, climate reports, and leading sustainability ratings indicate a focus on environmental responsibility.\n",
        "Commitment to environmental sustainability, inclusive economic growth, and contributions to the ESG suggest a comprehensive approach to sustainability.\n",
        "\n",
        "For Innovation:\n",
        "The term 'innovation' is mentioned in the context of driving economic growth, catalyzing decarbonization, and reaching net zero.\n",
        "There is a focus on digital capability centers, advanced innovation learning hubs, and the importance of responsible innovation management.\n",
        "Collaboration, learning, and research are mentioned in the context of innovation labs, indicating a commitment to exploring new ideas and approaches.\n",
        "\n",
        "Relationship Between Sustainability and Innovation:\n",
        "Both terms are used in the context of driving growth and pursuing goals related to environmental responsibility.\n",
        "There is an emphasis on responsible innovation, suggesting a commitment to ensuring that innovative practices align with sustainable and ethical considerations.\n",
        "\n",
        "\n",
        "In summary, the concordance results suggest a strong relationship between sustainability and innovation in the analyzed text. The organization appears to view innovation as a means to drive sustainable practices and achieve environmental and economic goals. The emphasis on responsible and inclusive approaches indicates a holistic perspective that combines both sustainability and innovation."
      ],
      "metadata": {
        "id": "_b0GJ_zcT5eq"
      }
    },
    {
      "cell_type": "markdown",
      "source": [
        "### Similar Word Analysis\n",
        "\n",
        "Then let's now see which words appear in similar contexts as the word \"sustainability\" and 'innovation'.  [Krisel,2023](https://github.com/rskrisel/intro_to_nltk/blob/main/Intro_NLTK_workshop.ipynb)"
      ],
      "metadata": {
        "id": "5lp2JIP9q-gf"
      }
    },
    {
      "cell_type": "code",
      "source": [
        "text_object.similar('sustainability')"
      ],
      "metadata": {
        "id": "T7rq6dgp5eK4",
        "colab": {
          "base_uri": "https://localhost:8080/"
        },
        "outputId": "81517593-170b-42d7-afb5-10f12644510f"
      },
      "execution_count": null,
      "outputs": [
        {
          "output_type": "stream",
          "name": "stdout",
          "text": [
            "inclusive statement climate work countries launched served achieve\n",
            "digital houston collected complex security glam\n"
          ]
        }
      ]
    },
    {
      "cell_type": "code",
      "source": [
        "text_object.similar('innovation')"
      ],
      "metadata": {
        "id": "9HjALMBp5VJx",
        "colab": {
          "base_uri": "https://localhost:8080/"
        },
        "outputId": "0bab7f78-0d94-44c0-97a8-6e771b972497"
      },
      "execution_count": null,
      "outputs": [
        {
          "output_type": "stream",
          "name": "stdout",
          "text": [
            "needed\n"
          ]
        }
      ]
    },
    {
      "cell_type": "markdown",
      "source": [
        "We can see that 'Sustainability' in this context is associated with tangible aspects like inclusivity, climate action, and achieving goals in various countries. It relates to concrete efforts and measurable outcomes.\n",
        "\n",
        "On the other hand, 'Innovation' appears to be more aspirational and is viewed as a necessary element for progress. While 'sustainability' focuses on the practical application and achievement of specific objectives, 'innovation' is about the aspiration and drive needed to bring about change and advance these goals."
      ],
      "metadata": {
        "id": "Z1WMuCekRFjY"
      }
    },
    {
      "cell_type": "markdown",
      "source": [
        "### TF-IDF Anaylsis\n",
        "Here I use TF-IDF to find out the top 10 words with the highest tf–idf for the text, but unfortunately I could not find relationship between 'sustainability' and 'innovation.  [Krisel,2023](https://github.com/rskrisel/tf-idf/blob/main/README.md)"
      ],
      "metadata": {
        "id": "y2FHpg2SJ8-X"
      }
    },
    {
      "cell_type": "code",
      "source": [
        "from sklearn.feature_extraction.text import TfidfVectorizer\n",
        "\n",
        "# Assuming you have a list of cleaned texts\n",
        "\n",
        "# Create a TF-IDF vectorizer\n",
        "vectorizer = TfidfVectorizer(stop_words='english')\n",
        "\n",
        "# Fit and transform the cleaned texts\n",
        "tfidf_matrix = vectorizer.fit_transform(cleaned_text_Mckinsey)\n",
        "\n",
        "# Get feature names (words)\n",
        "feature_names = vectorizer.get_feature_names_out()\n",
        "\n",
        "# Calculate the average TF-IDF score for each word across all texts\n",
        "average_tfidf_scores = tfidf_matrix.mean(axis=0).A1\n",
        "\n",
        "# Create a dictionary mapping words to their average TF-IDF scores\n",
        "word_tfidf_dict = dict(zip(feature_names, average_tfidf_scores))\n",
        "\n",
        "# Sort the dictionary by TF-IDF scores\n",
        "sorted_word_tfidf = sorted(word_tfidf_dict.items(), key=lambda x: x[1], reverse=True)\n",
        "\n",
        "# Print the most distinctive words\n",
        "print(\"Most distinctive words:\")\n",
        "for word, tfidf_score in sorted_word_tfidf[:5]:\n",
        "    print(f\"{word}: {tfidf_score}\")"
      ],
      "metadata": {
        "colab": {
          "base_uri": "https://localhost:8080/"
        },
        "id": "KNDMpqWeLdXf",
        "outputId": "b7d40728-6f33-4214-d9f5-4249dd706c97"
      },
      "execution_count": null,
      "outputs": [
        {
          "output_type": "stream",
          "name": "stdout",
          "text": [
            "Most distinctive words:\n",
            "sustainability: 0.01296252651425885\n",
            "growth: 0.009804383690784867\n",
            "mckinsey: 0.009568701390525614\n",
            "inclusive: 0.009380155550318212\n",
            "colleagues: 0.008955927409851558\n"
          ]
        }
      ]
    },
    {
      "cell_type": "markdown",
      "source": [
        "\n",
        "\n",
        "### Report 2: Google 2023 Environmental Report\n",
        "\n",
        "#### Extracting text from PDF file:\n",
        "\n",
        "Here I ask ChatGPT 'How to conduct text analysis on a PDF file'.\n"
      ],
      "metadata": {
        "id": "XGW_Vo4yKzpt"
      }
    },
    {
      "cell_type": "code",
      "source": [
        "!pip install PyPDF2\n",
        "from PyPDF2 import PdfReader\n",
        "def pdf_to_text(pdf_path):\n",
        "    with open(pdf_path, \"rb\") as file:\n",
        "        reader = PdfReader(file)\n",
        "        text = \"\"\n",
        "        for page_num in range(len(reader.pages)):\n",
        "            page = reader.pages[page_num]\n",
        "            text += page.extract_text()\n",
        "    return text\n",
        "pdf_path = \"/content/google-2023-environmental-report.pdf\"\n",
        "\n",
        "# 调用函数\n",
        "extracted_text_google = pdf_to_text(pdf_path)\n",
        "print(extracted_text_google)"
      ],
      "metadata": {
        "id": "0u_vUKhnMmMQ"
      },
      "execution_count": null,
      "outputs": []
    },
    {
      "cell_type": "markdown",
      "source": [
        "### Text Cleaning\n",
        "\n",
        "Then I am preparing the text for analysis by tokenizing, converting to lowercase, removing stopwords, and lemmatizing. The cleaned text is then stored in a file for further use. [Krisel,2023](https://github.com/rskrisel/intro_to_nltk/blob/main/Intro_NLTK_workshop.ipynb)"
      ],
      "metadata": {
        "id": "ERzoncIbLI4K"
      }
    },
    {
      "cell_type": "code",
      "source": [
        "import nltk\n",
        "from nltk.corpus import stopwords\n",
        "from nltk.stem import WordNetLemmatizer\n",
        "from nltk import word_tokenize\n",
        "\n",
        "# Download necessary NLTK resources\n",
        "nltk.download(['stopwords', 'punkt', 'wordnet'])\n",
        "\n",
        "# Define stopwords and lemmatizer\n",
        "stops = set(stopwords.words(\"english\"))\n",
        "lemmatizer = WordNetLemmatizer()\n",
        "\n",
        "def clean_text(text):\n",
        "    \"\"\"\n",
        "    Clean and lemmatize text.\n",
        "    Converts words to lower case, removes stopwords and digits,\n",
        "    and maps related terms to a unified representative term.\n",
        "    \"\"\"\n",
        "    text_tokens = word_tokenize(text)\n",
        "    text_lower = [t.lower() for t in text_tokens if t.isalnum() and not t.isdigit()]\n",
        "    text_stops = [t for t in text_lower if t not in stops]\n",
        "\n",
        "    unified_terms = {\n",
        "        'sustainability': 'sustainability',\n",
        "        'sustainable': 'sustainability',\n",
        "        'innovation': 'innovation',\n",
        "        'innovative': 'innovation',\n",
        "        'innovate': 'innovation'\n",
        "    }\n",
        "\n",
        "    # Lemmatize without considering the part of speech\n",
        "    text_clean = [unified_terms.get(lemmatizer.lemmatize(t), t) for t in text_stops]\n",
        "    return text_clean\n",
        "\n",
        "cleaned_text_google = clean_text(extracted_text_google)"
      ],
      "metadata": {
        "colab": {
          "base_uri": "https://localhost:8080/"
        },
        "id": "NuEHIi0SmeU9",
        "outputId": "c46e47ab-26d4-47fa-e23c-87e763f6226e"
      },
      "execution_count": null,
      "outputs": [
        {
          "output_type": "stream",
          "name": "stderr",
          "text": [
            "[nltk_data] Downloading package stopwords to /root/nltk_data...\n",
            "[nltk_data]   Package stopwords is already up-to-date!\n",
            "[nltk_data] Downloading package punkt to /root/nltk_data...\n",
            "[nltk_data]   Package punkt is already up-to-date!\n",
            "[nltk_data] Downloading package wordnet to /root/nltk_data...\n",
            "[nltk_data]   Package wordnet is already up-to-date!\n"
          ]
        }
      ]
    },
    {
      "cell_type": "markdown",
      "source": [
        "### Term Frequency Analysis & Visualization\n",
        "\n",
        "Here I used Term Frequency Method to display the top 10 most common words, then I use matplotlib to generate a horizontal bar chart that visualizes the frequency distribution of the top 20 words with the aim to gain insights into the most prevalent words in our cleaned_text document."
      ],
      "metadata": {
        "id": "TXVZzg8GLPFx"
      }
    },
    {
      "cell_type": "code",
      "source": [
        "import nltk\n",
        "from nltk import FreqDist\n",
        "import numpy as np\n",
        "import matplotlib.pyplot as plt\n",
        "\n",
        "my_dist = FreqDist(cleaned_text_google)\n",
        "\n",
        "# Get the top 20 words and their frequencies\n",
        "top_words = [word[0] for word in my_dist.most_common(20)]\n",
        "word_frequencies = [word[1] for word in my_dist.most_common(20)]\n",
        "\n",
        "# Plot the bar chart\n",
        "plt.figure(figsize=(10, 8), dpi=80)\n",
        "colors = ['red' if word == 'sustainability' else 'orange' for word in top_words]\n",
        "plt.barh(top_words, word_frequencies, color=colors)\n",
        "plt.title('Top 20 Words')\n",
        "plt.xlabel('Frequency')\n",
        "plt.ylabel('Words')\n",
        "plt.show()"
      ],
      "metadata": {
        "colab": {
          "base_uri": "https://localhost:8080/",
          "height": 574
        },
        "id": "e7nSzjPXSF4o",
        "outputId": "280d9875-b415-4964-dace-166d7f8b435b"
      },
      "execution_count": null,
      "outputs": [
        {
          "output_type": "display_data",
          "data": {
            "text/plain": [
              "<Figure size 800x640 with 1 Axes>"
            ],
            "image/png": "[encoded data removed]"
          },
          "metadata": {}
        }
      ]
    },
    {
      "cell_type": "markdown",
      "source": [
        "I noticed there are some words that do not hold analytical values, so I exluded some words that are irrelevent to our analysis."
      ],
      "metadata": {
        "id": "sMxNfdvcLcJw"
      }
    },
    {
      "cell_type": "code",
      "source": [
        "import nltk\n",
        "from nltk import FreqDist\n",
        "import numpy as np\n",
        "import matplotlib.pyplot as plt\n",
        "\n",
        "my_dist = FreqDist(cleaned_text_google)\n",
        "exclude_words = ['see','new','help','use','also','scope','work','change','center','google','across']\n",
        "filtered_dist = {word: freq for word, freq in my_dist.items() if word not in exclude_words}\n",
        "\n",
        "# Get the top 20 words and their frequencies\n",
        "top_words = [word[0] for word in FreqDist(filtered_dist).most_common(20)]\n",
        "word_frequencies = [word[1] for word in FreqDist(filtered_dist).most_common(20)]\n",
        "\n",
        "# Plot the bar chart\n",
        "plt.figure(figsize=(10, 8), dpi=80)\n",
        "colors=['red' if word == 'sustainability' else 'green' for word in top_words]\n",
        "plt.barh(top_words, word_frequencies, color=colors)\n",
        "plt.title('Top 20 Words')\n",
        "plt.xlabel('Frequency')\n",
        "plt.ylabel('Words')\n",
        "plt.show()"
      ],
      "metadata": {
        "colab": {
          "base_uri": "https://localhost:8080/",
          "height": 574
        },
        "id": "IIeNXdqutpsk",
        "outputId": "b55b7a64-48dd-4645-e914-700236aa660b"
      },
      "execution_count": null,
      "outputs": [
        {
          "output_type": "display_data",
          "data": {
            "text/plain": [
              "<Figure size 800x640 with 1 Axes>"
            ],
            "image/png": "[encoded data removed]"
          },
          "metadata": {}
        }
      ]
    },
    {
      "cell_type": "markdown",
      "source": [
        "As we can see from the above that innovation is not part of the most common 20 words, so I am using FreqDist function to understand the frequency of the word 'innovation'"
      ],
      "metadata": {
        "id": "i63JObloLbTr"
      }
    },
    {
      "cell_type": "code",
      "source": [
        "from nltk import FreqDist\n",
        "\n",
        "my_dist = FreqDist(cleaned_text_google)\n",
        "\n",
        "\n",
        "# Get the frequencies of the target words\n",
        "word_frequencies_innovation = my_dist['innovation']\n",
        "word_frequencies_sustainability = my_dist['sustainability']\n",
        "\n",
        "print(\"Term frequency of 'innovation':\", word_frequencies_innovation)\n",
        "print(\"Term frequency of ' sustainability':\", word_frequencies_sustainability)\n",
        "\n"
      ],
      "metadata": {
        "colab": {
          "base_uri": "https://localhost:8080/"
        },
        "id": "DyiKITcLSMNh",
        "outputId": "0dcfca59-317e-4c51-cc00-c1e3b78c7558"
      },
      "execution_count": null,
      "outputs": [
        {
          "output_type": "stream",
          "name": "stdout",
          "text": [
            "Term frequency of 'innovation': 48\n",
            "Term frequency of ' sustainability': 217\n"
          ]
        }
      ]
    },
    {
      "cell_type": "markdown",
      "source": [
        "Here I generate a bar chart visualizing the term frequencies of 'sustainability' and 'innovation' using Seaborn, providing a quick visual comparison of the frequencies of these terms."
      ],
      "metadata": {
        "id": "QUCuAq_yLkeL"
      }
    },
    {
      "cell_type": "code",
      "source": [
        "import pandas as pd\n",
        "import seaborn as sns\n",
        "\n",
        "# Create a DataFrame for term frequency\n",
        "term_freq_df = pd.DataFrame({'Term': ['sustainability', 'innovation'],\n",
        "                             'Frequency': [217, 48]})\n",
        "\n",
        "# Create a bar chart\n",
        "plt.figure(figsize=(8, 5))\n",
        "sns.barplot(x='Term', y='Frequency', data=term_freq_df, palette='viridis')\n",
        "plt.title('Term Frequency Bar Chart')\n",
        "plt.show()"
      ],
      "metadata": {
        "colab": {
          "base_uri": "https://localhost:8080/",
          "height": 487
        },
        "id": "crSYO4CFSSvV",
        "outputId": "12cff5b6-4563-4a37-da8c-1c8ae4315e99"
      },
      "execution_count": null,
      "outputs": [
        {
          "output_type": "display_data",
          "data": {
            "text/plain": [
              "<Figure size 800x500 with 1 Axes>"
            ],
            "image/png": "[encoded data removed]"
          },
          "metadata": {}
        }
      ]
    },
    {
      "cell_type": "markdown",
      "source": [
        "### Corcordance Analysis\n",
        "\n",
        "Then I used the concordance method to understand how \"sustainability\" and \"innovation\" are used in the cleaned_text by displaying the surrounding words. [Krisel,2023](https://github.com/rskrisel/intro_to_nltk/blob/main/Intro_NLTK_workshop.ipynb)"
      ],
      "metadata": {
        "id": "maBPvpJ8LqrR"
      }
    },
    {
      "cell_type": "code",
      "source": [
        "import nltk\n",
        "from nltk import Text\n",
        "\n",
        "text_object_google = Text(cleaned_text_google)\n",
        "\n",
        "# Find the concordance of 'sustainability'\n",
        "print(\"Concordance for 'sustainability':\")\n",
        "text_object_google.concordance(\"sustainability\",width=90,lines=15)\n",
        "\n",
        "# Find the concordance of 'innovation'\n",
        "print(\"\\nConcordance for 'innovation':\")\n",
        "text_object_google.concordance(\"innovation\",width=90,lines=15)\n"
      ],
      "metadata": {
        "id": "RykAW2fUSWWs",
        "colab": {
          "base_uri": "https://localhost:8080/"
        },
        "outputId": "8f2143ef-8de4-4e8e-8521-1239d3a49606"
      },
      "execution_count": null,
      "outputs": [
        {
          "output_type": "stream",
          "name": "stdout",
          "text": [
            "Concordance for 'sustainability':\n",
            "Displaying 25 of 217 matches:\n",
            "eport provides overview environmental sustainability strategy targets annual progress towa\n",
            "nvironmental report executive summary sustainability reports sustainability blog commitmen\n",
            "cutive summary sustainability reports sustainability blog commitments alphabet environment\n",
            "oduction executive letters highlights sustainability strategy targets progress summary eme\n",
            "ition appro ach help ing peo ple make sustainability choices reducing home energy use prov\n",
            "es reducing home energy use providing sustainability transpo rtation options sharin g acti\n",
            "ature biodiversity spotlight building sustainability camp us mountain view73 governance en\n",
            "ductionexecutive letters svp learning sustainability chief sustainability officer highligh\n",
            "ers svp learning sustainability chief sustainability officer highlights sustainability str\n",
            "ief sustainability officer highlights sustainability strategytargets progress summaryemerg\n",
            "ress summaryemerging opportunities ai sustainability gigaton aspiration environmental repo\n",
            "letter senior vice president learning sustainability introduced problem climate change lat\n",
            " google leadership pushing boundaries sustainability data centers including achieving carb\n",
            " driving larger systems change create sustainability future predicting future growth energ\n",
            "g progress climate information action sustainability future built upon billions decisions \n",
            " tenure google seen working integrate sustainability work transition going us world playbo\n",
            "innovation play helpful role building sustainability resilient future benedict gomes bened\n",
            "e accelerating innovation help create sustainability future environmental report letter ch\n",
            "ure environmental report letter chief sustainability officer grew muir beach california fo\n",
            "rs joined google eight years ago lead sustainability efforts witnessed sense urgency ambit\n",
            "forms reflected updated environmental sustainability strategy focuses make significant pos\n",
            "reached goal help billion people make sustainability choices products achieved offering su\n",
            "ty choices products achieved offering sustainability features like routing google maps ene\n",
            " achieve kate brandt kate brandtchief sustainability officergooglein signed contracts appr\n",
            "re products helped billion users make sustainability choices million metric tons estimated\n",
            "\n",
            "Concordance for 'innovation':\n",
            "Displaying 25 of 48 matches:\n",
            "porting partners investing breakthrough innovation creating ecosystems collaboration journ\n",
            "o taking governmental policy technology innovation actions individuals broader awareness d\n",
            "nformation products given scale problem innovation also key getting us better future order\n",
            "g us better future order push frontiers innovation google long research organization foref\n",
            " report highlighting themes information innovation run much work information feature googl\n",
            "k informed societal trends expectations innovation call many places ai helping break barri\n",
            "olutions optimistic efforts information innovation play helpful role building sustainabili\n",
            "ing information accessible accelerating innovation help create sustainability future envir\n",
            "rgythrough expect new era technological innovation open even greater opportunities acceler\n",
            "n making information accessible driving innovation forward products platforms billions peo\n",
            "rating business sustainably information innovation helping lead transition sustainability \n",
            "e making information accessible driving innovation forward empowering individuals take act\n",
            "ns yet exist however ambition pushes us innovation audacious approach collaborate others d\n",
            "e making information accessible driving innovation forward grounded mission empowering peo\n",
            "ces products pleased share reached goal innovation solutions offered users including googl\n",
            "beyond google direct impact information innovation learn empowering technology google maps\n",
            "porting partners investing breakthrough innovation creating ecosystems collaboration journ\n",
            "porting partners investing breakthrough innovation creating ecosystems collaboration gover\n",
            "take timely action breakthroughs result innovation modeling approaches use machine learnin\n",
            "estimates several tree cover accelerate innovation seen scientific ngo communities bringin\n",
            "ronmental report investing breakthrough innovation helping advance next generation audacio\n",
            "t challenges includes combining funding innovation technical expertise support underserved\n",
            "enges launched impact challenge climate innovation allocates million support breakthrough \n",
            "tfolio accelerators support early stage innovation grow scale google startups accelerator \n",
            "gle programs products people technology innovation impactful climate change circular econo\n"
          ]
        }
      ]
    },
    {
      "cell_type": "markdown",
      "source": [
        "Sustainability:\n",
        "The text mentions an \"environmental sustainability strategy\" and progress reports towards sustainability goals.\n",
        "There is a focus on Google's commitment to sustainability, including reports, blogs, and executive letters highlighting sustainability strategies.\n",
        "The concordance indicates a connection between sustainability and various initiatives, such as artificial intelligence (AI) for sustainability and gigaton aspirations.\n",
        "Sustainability efforts include reducing emissions, achieving sustainability goals, and integrating sustainability into business practices.\n",
        "\n",
        "Innovation:\n",
        "The text discusses Google's investment in breakthrough innovation and creating an ecosystem of collaboration.\n",
        "There is an emphasis on technology innovation and its role in addressing societal challenges.\n",
        "Information innovation is highlighted, and there's a mention of Google's role in pushing the frontier of innovation.\n",
        "The concordance suggests that innovation plays a key role in creating a better future and addressing global challenges.\n",
        "Relationship Between Sustainability and\n",
        "Innovation:\n",
        "Both terms appear in the context of Google's efforts, indicating a connection between sustainability and innovation in the company's initiatives.\n",
        "The concordance suggests that innovation is a crucial component in achieving sustainability goals, with mentions of breakthroughs, technology, and collaborative ecosystems.\n",
        "\n",
        "In summary, the concordance implies that sustainability and innovation are closely linked in the discussed context, with innovation playing a significant role in advancing sustainability goals and addressing environmental challenges. The relationship seems to revolve around using innovative approaches and technologies to achieve sustainability objectives."
      ],
      "metadata": {
        "id": "kEqinm2WVbLG"
      }
    },
    {
      "cell_type": "markdown",
      "source": [
        "### Similar Word Analysis\n",
        "\n",
        "Then let's now see which words appear in similar contexts as the word \"sustainability\" and 'innovation'. But in this context, since there is no similar word to 'innovation', I could not reach any conclusion.   [Krisel,2023](https://github.com/rskrisel/intro_to_nltk/blob/main/Intro_NLTK_workshop.ipynb)"
      ],
      "metadata": {
        "id": "wwLwrGGPL3XG"
      }
    },
    {
      "cell_type": "code",
      "source": [
        "text_object_google.similar('sustainability')"
      ],
      "metadata": {
        "colab": {
          "base_uri": "https://localhost:8080/"
        },
        "id": "p8YWWWbsSegT",
        "outputId": "a32d437f-7ae5-40a6-d3db-8d9678bc02bf"
      },
      "execution_count": null,
      "outputs": [
        {
          "output_type": "stream",
          "name": "stdout",
          "text": [
            "water global circular public partnerships climate change carbon making\n",
            "better informed clean accelerate platform solar save risks analyze add\n",
            "architecture\n"
          ]
        }
      ]
    },
    {
      "cell_type": "code",
      "source": [
        "text_object_google.similar('innovation')"
      ],
      "metadata": {
        "colab": {
          "base_uri": "https://localhost:8080/"
        },
        "id": "33kDiDbPSrGB",
        "outputId": "7ad5e412-3e0a-466b-b949-e2c9ba71cbef"
      },
      "execution_count": null,
      "outputs": [
        {
          "output_type": "stream",
          "name": "stdout",
          "text": [
            "\n"
          ]
        }
      ]
    },
    {
      "cell_type": "markdown",
      "source": [
        "### TF-IDF Anaylsis\n",
        "Here I use TF-IDF to find out the top 10 words with the highest tf–idf for the text, but unfortunately I could not find relationship between 'sustainability' and 'innovation.  [Krisel,2023](https://github.com/rskrisel/tf-idf/blob/main/README.md)"
      ],
      "metadata": {
        "id": "LorQhcYmL9GR"
      }
    },
    {
      "cell_type": "code",
      "source": [
        "from sklearn.feature_extraction.text import TfidfVectorizer\n",
        "\n",
        "\n",
        "# Create a TF-IDF vectorizer\n",
        "vectorizer = TfidfVectorizer(stop_words='english')\n",
        "\n",
        "# Fit and transform the cleaned texts\n",
        "tfidf_matrix = vectorizer.fit_transform(text_object_google)\n",
        "\n",
        "# Get feature names (words)\n",
        "feature_names = vectorizer.get_feature_names_out()\n",
        "\n",
        "# Calculate the average TF-IDF score for each word across all texts\n",
        "average_tfidf_scores = tfidf_matrix.mean(axis=0).A1\n",
        "\n",
        "# Create a dictionary mapping words to their average TF-IDF scores\n",
        "word_tfidf_dict = dict(zip(feature_names, average_tfidf_scores))\n",
        "\n",
        "# Sort the dictionary by TF-IDF scores\n",
        "sorted_word_tfidf = sorted(word_tfidf_dict.items(), key=lambda x: x[1], reverse=True)\n",
        "\n",
        "# Print the most distinctive words\n",
        "print(\"Most distinctive words:\")\n",
        "for word, tfidf_score in sorted_word_tfidf[:5]:\n",
        "    print(f\"{word}: {tfidf_score}\")"
      ],
      "metadata": {
        "colab": {
          "base_uri": "https://localhost:8080/"
        },
        "id": "QVfh0KgEStkh",
        "outputId": "82b0ab23-18c8-4bb8-f961-9998edc56f53"
      },
      "execution_count": null,
      "outputs": [
        {
          "output_type": "stream",
          "name": "stdout",
          "text": [
            "Most distinctive words:\n",
            "energy: 0.01448990296354567\n",
            "data: 0.013211382113821056\n",
            "google: 0.012359034880671313\n",
            "emissions: 0.011801730920534943\n",
            "water: 0.009047993705743468\n"
          ]
        }
      ]
    },
    {
      "cell_type": "markdown",
      "source": [
        "\n",
        "\n",
        "### Report 3: 2022 Microsoft Environmental Sustainability Report\n",
        "\n",
        "#### Extracting text from PDF file:\n",
        "\n",
        "Here I ask ChatGPT 'How to conduct text analysis on a PDF file'.\n"
      ],
      "metadata": {
        "id": "op6eCrdnMFRF"
      }
    },
    {
      "cell_type": "code",
      "source": [
        "!pip install PyPDF2\n",
        "from PyPDF2 import PdfReader\n",
        "def pdf_to_text(pdf_path):\n",
        "    with open(pdf_path, \"rb\") as file:\n",
        "        reader = PdfReader(file)\n",
        "        text = \"\"\n",
        "        for page_num in range(len(reader.pages)):\n",
        "            page = reader.pages[page_num]\n",
        "            text += page.extract_text()\n",
        "    return text\n",
        "pdf_path = \"/content/2022 Microsoft Environmental Sustainability Report.pdf\"\n",
        "\n",
        "\n",
        "extracted_text_Microsoft = pdf_to_text(pdf_path)\n",
        "print(extracted_text_Microsoft)"
      ],
      "metadata": {
        "id": "FDBOJ2TUSwkt"
      },
      "execution_count": null,
      "outputs": []
    },
    {
      "cell_type": "markdown",
      "source": [
        "### Text Cleaning\n",
        "\n",
        "Then I am preparing the text for analysis by tokenizing, converting to lowercase, removing stopwords, and lemmatizing. The cleaned text is then stored in a file for further use. [Krisel,2023](https://github.com/rskrisel/intro_to_nltk/blob/main/Intro_NLTK_workshop.ipynb)"
      ],
      "metadata": {
        "id": "pFXyRxSUMMDt"
      }
    },
    {
      "cell_type": "code",
      "source": [
        "\n",
        "import nltk\n",
        "from nltk.corpus import stopwords\n",
        "from nltk.stem import WordNetLemmatizer\n",
        "from nltk import word_tokenize\n",
        "\n",
        "# Download necessary NLTK resources\n",
        "nltk.download(['stopwords', 'punkt', 'wordnet'])\n",
        "\n",
        "# Define stopwords and lemmatizer\n",
        "stops = set(stopwords.words(\"english\"))\n",
        "lemmatizer = WordNetLemmatizer()\n",
        "\n",
        "def clean_text(text):\n",
        "    \"\"\"\n",
        "    Clean and lemmatize text.\n",
        "    Converts words to lower case, removes stopwords and digits,\n",
        "    and maps related terms to a unified representative term.\n",
        "    \"\"\"\n",
        "    text_tokens = word_tokenize(text)\n",
        "    text_lower = [t.lower() for t in text_tokens if t.isalnum() and not t.isdigit()]\n",
        "    text_stops = [t for t in text_lower if t not in stops]\n",
        "\n",
        "    unified_terms = {\n",
        "        'sustainability': 'sustainability',\n",
        "        'sustainable': 'sustainability',\n",
        "        'innovation': 'innovation',\n",
        "        'innovative': 'innovation',\n",
        "        'innovate': 'innovation'\n",
        "    }\n",
        "\n",
        "    # Lemmatize without considering the part of speech\n",
        "    text_clean = [unified_terms.get(lemmatizer.lemmatize(t), t) for t in text_stops]\n",
        "    return text_clean\n",
        "\n",
        "cleaned_text_Microsoft = clean_text(extracted_text_Microsoft)\n",
        "\n",
        "# Store the cleaned text in a file\n",
        "with open(\"cleaned_text_Mckinsey.txt\", \"w\", encoding='utf-8') as file:\n",
        "    file.write(\" \".join(cleaned_text_Microsoft))  # Join the cleaned text into a single string for writing to the file\n",
        "\n"
      ],
      "metadata": {
        "colab": {
          "base_uri": "https://localhost:8080/"
        },
        "id": "YENXmu10YTMv",
        "outputId": "73780eca-58e7-4c42-d777-9ce3d81e1bb8"
      },
      "execution_count": null,
      "outputs": [
        {
          "output_type": "stream",
          "name": "stderr",
          "text": [
            "[nltk_data] Downloading package stopwords to /root/nltk_data...\n",
            "[nltk_data]   Package stopwords is already up-to-date!\n",
            "[nltk_data] Downloading package punkt to /root/nltk_data...\n",
            "[nltk_data]   Package punkt is already up-to-date!\n",
            "[nltk_data] Downloading package wordnet to /root/nltk_data...\n",
            "[nltk_data]   Package wordnet is already up-to-date!\n"
          ]
        }
      ]
    },
    {
      "cell_type": "markdown",
      "source": [
        "### Term Frequency Analysis & Visualization\n",
        "\n",
        "Here I used Term Frequency Method to display the top 10 most common words. Then I use matplotlib to generate a horizontal bar chart that visualizes the frequency distribution of the top 20 words with the aim to gain insights into the most prevalent words in our cleaned_text document."
      ],
      "metadata": {
        "id": "8NTf7qZXMR7A"
      }
    },
    {
      "cell_type": "code",
      "source": [
        "import nltk\n",
        "from nltk import FreqDist\n",
        "import numpy as np\n",
        "import matplotlib.pyplot as plt\n",
        "\n",
        "my_dist = FreqDist(cleaned_text_Microsoft)\n",
        "\n",
        "# Get the top 30 words and their frequencies\n",
        "top_words = [word[0] for word in my_dist.most_common(30)]\n",
        "word_frequencies = [word[1] for word in my_dist.most_common(30)]\n",
        "\n",
        "# Plot the bar chart\n",
        "plt.figure(figsize=(10, 8), dpi=80)\n",
        "colors = ['red' if word == 'sustainability' else 'green' if word == 'innovation' else 'orange' for word in top_words]\n",
        "plt.barh(top_words, word_frequencies, color=colors)\n",
        "plt.title('Top 30 Words')\n",
        "plt.xlabel('Frequency')\n",
        "plt.ylabel('Words')\n",
        "plt.show()"
      ],
      "metadata": {
        "colab": {
          "base_uri": "https://localhost:8080/",
          "height": 574
        },
        "id": "PJRKnD2dYdEB",
        "outputId": "880ae185-e298-4e65-ea84-0ebf1b479390"
      },
      "execution_count": null,
      "outputs": [
        {
          "output_type": "display_data",
          "data": {
            "text/plain": [
              "<Figure size 800x640 with 1 Axes>"
            ],
            "image/png": "[encoded data removed]"
          },
          "metadata": {}
        }
      ]
    },
    {
      "cell_type": "markdown",
      "source": [
        "I noticed there are some words that do not hold analytical values, so I exluded some words that are irrelevent to our analysis."
      ],
      "metadata": {
        "id": "2nRfsdGBMZX2"
      }
    },
    {
      "cell_type": "code",
      "source": [
        "import nltk\n",
        "from nltk import FreqDist\n",
        "import numpy as np\n",
        "import matplotlib.pyplot as plt\n",
        "\n",
        "my_dist = FreqDist(cleaned_text_Microsoft)\n",
        "exclude_words = ['microsoft','organization','program','desgin','word','help','work','sustainable','progess','new','land','approach','power','reduce','scope','fy22','cloud','product', 'project','percent','use','global','device','also','across','year']\n",
        "filtered_dist = {word: freq for word, freq in my_dist.items() if word not in exclude_words}\n",
        "\n",
        "# Get the top 30 words and their frequencies\n",
        "top_words = [word[0] for word in FreqDist(filtered_dist).most_common(20)]\n",
        "word_frequencies = [word[1] for word in FreqDist(filtered_dist).most_common(20)]\n",
        "colors = ['red' if word == 'sustainability' else 'orange' if word == 'innovation' else 'green' for word in top_words]\n",
        "\n",
        "# Plot the bar chart\n",
        "plt.figure(figsize=(10, 8), dpi=80)\n",
        "plt.barh(top_words, word_frequencies, color=colors)\n",
        "plt.title('Top 20 Words')\n",
        "plt.xlabel('Frequency')\n",
        "plt.ylabel('Words')\n",
        "plt.show()"
      ],
      "metadata": {
        "colab": {
          "base_uri": "https://localhost:8080/",
          "height": 574
        },
        "id": "hKsb1PvwZpCM",
        "outputId": "bb3a7eda-f4c7-4a9c-84c1-fafdd523331c"
      },
      "execution_count": null,
      "outputs": [
        {
          "output_type": "display_data",
          "data": {
            "text/plain": [
              "<Figure size 800x640 with 1 Axes>"
            ],
            "image/png": "[encoded data removed]"
          },
          "metadata": {}
        }
      ]
    },
    {
      "cell_type": "markdown",
      "source": [
        "As we can see from the above that innovation is not part of the most common 20 words, so I am using FreqDist function to understand the frequency of the word 'innovation'"
      ],
      "metadata": {
        "id": "u_NJfKYXMfbW"
      }
    },
    {
      "cell_type": "code",
      "source": [
        "from nltk import FreqDist\n",
        "\n",
        "my_dist = FreqDist(cleaned_text_Microsoft)\n",
        "\n",
        "\n",
        "# Get the frequencies of the target words\n",
        "word_frequencies_innovation = my_dist['innovation']\n",
        "word_frequencies_sustainability = my_dist['sustainability']\n",
        "\n",
        "print(\"Term frequency of 'innovation':\", word_frequencies_innovation)\n",
        "print(\"Term frequency of ' sustainability':\", word_frequencies_sustainability)\n",
        "\n"
      ],
      "metadata": {
        "colab": {
          "base_uri": "https://localhost:8080/"
        },
        "id": "Xgt6Ffn_v8Sl",
        "outputId": "9491f5ea-f204-48b9-d096-19d2cd0526bb"
      },
      "execution_count": null,
      "outputs": [
        {
          "output_type": "stream",
          "name": "stdout",
          "text": [
            "Term frequency of 'innovation': 76\n",
            "Term frequency of ' sustainability': 268\n"
          ]
        }
      ]
    },
    {
      "cell_type": "markdown",
      "source": [
        "Here I generate a bar chart visualizing the term frequencies of 'sustainability' and 'innovation' using Seaborn, providing a quick visual comparison of the frequencies of these terms."
      ],
      "metadata": {
        "id": "de0roU-UMsHZ"
      }
    },
    {
      "cell_type": "code",
      "source": [
        "import pandas as pd\n",
        "import seaborn as sns\n",
        "\n",
        "# Create a DataFrame for term frequency\n",
        "term_freq_df = pd.DataFrame({'Term': ['sustainability', 'innovation'],\n",
        "                             'Frequency': [268, 76]})\n",
        "\n",
        "# Create a bar chart\n",
        "plt.figure(figsize=(8, 5))\n",
        "sns.barplot(x='Term', y='Frequency', data=term_freq_df, palette='viridis')\n",
        "plt.title('Term Frequency Bar Chart')\n",
        "plt.show()"
      ],
      "metadata": {
        "colab": {
          "base_uri": "https://localhost:8080/",
          "height": 487
        },
        "id": "PI8robwoZojV",
        "outputId": "6b1f4b00-7056-4f7c-9c63-e0884c1d753a"
      },
      "execution_count": null,
      "outputs": [
        {
          "output_type": "display_data",
          "data": {
            "text/plain": [
              "<Figure size 800x500 with 1 Axes>"
            ],
            "image/png": "[encoded data removed]"
          },
          "metadata": {}
        }
      ]
    },
    {
      "cell_type": "markdown",
      "source": [
        "### Corcordance Analysis\n",
        "\n",
        "Then I used the concordance method to understand how \"sustainability\" and \"innovation\" are used in the cleaned_text by displaying the surrounding words. [Krisel,2023](https://github.com/rskrisel/intro_to_nltk/blob/main/Intro_NLTK_workshop.ipynb)"
      ],
      "metadata": {
        "id": "VKwkdKmYMrZw"
      }
    },
    {
      "cell_type": "code",
      "source": [
        "import nltk\n",
        "from nltk import Text\n",
        "\n",
        "# Assuming 'cleaned_text' contains the cleaned text from the previous code\n",
        "text_object_Microsoft= Text(cleaned_text_Microsoft)\n",
        "\n",
        "# Find the concordance of 'sustainability'\n",
        "print(\"Concordance for 'sustainability':\")\n",
        "text_object_Microsoft.concordance(\"sustainability\",width=90)\n",
        "\n",
        "# Find the concordance of 'innovation'\n",
        "print(\"\\nConcordance for 'innovation':\")\n",
        "text_object_Microsoft.concordance(\"innovation\",width=90)\n"
      ],
      "metadata": {
        "colab": {
          "base_uri": "https://localhost:8080/"
        },
        "id": "_mtYO-0-bxDB",
        "outputId": "56d36a07-6422-4295-f0e3-5450c1a20b94"
      },
      "execution_count": null,
      "outputs": [
        {
          "output_type": "stream",
          "name": "stdout",
          "text": [
            "Concordance for 'sustainability':\n",
            "Displaying 25 of 268 matches:\n",
            "environmental sustainability report enabling sustainability compan\n",
            "mental sustainability report enabling sustainability company customers worldcolor palette \n",
            "eword progress work report 9microsoft sustainability carbon approach reducing scope emissi\n",
            " footprint key trends next 50customer sustainability commitments progress microsoft cloud \n",
            " commitments progress microsoft cloud sustainability green software sustainability devices\n",
            "t cloud sustainability green software sustainability devices planetary computer ai good 63\n",
            "s planetary computer ai good 63global sustainability commitments progress science research\n",
            "rogress work report foreword enabling sustainability company customers world marked sixth \n",
            "obal community melanie nakagawa chief sustainability officer brad smith vice chair preside\n",
            "oach addressing climate crisis starts sustainability business made bold set commitments ca\n",
            "decades come launched microsoft cloud sustainability comprehensive suite sustainability ma\n",
            "ud sustainability comprehensive suite sustainability management tools also helped advance \n",
            " tools also helped advance set global sustainability initiatives aim benefit every person \n",
            "er look getting house order microsoft sustainability first sphere influence remain focused\n",
            "ents making right investments support sustainability business decades come addition focus \n",
            "surement renewable energy investments sustainability aviation fuel saf purchases procureme\n",
            "negative commitment challenge support sustainability business also invitation world partic\n",
            "ents making right investments support sustainability business decades come zero waste incr\n",
            "ieve second sphere influence customer sustainability technology company role play thousand\n",
            "t global emissions important approach sustainability extends beyond four walls supports su\n",
            "ty extends beyond four walls supports sustainability needs customers foreword continued co\n",
            " manner june launched microsoft cloud sustainability comprehensive environmental sustainab\n",
            "inability comprehensive environmental sustainability management platform includes microsof\n",
            "anagement platform includes microsoft sustainability manager new digital tools interoperat\n",
            "data intelligence organizations stage sustainability journey sustainability manager enable\n",
            "\n",
            "Concordance for 'innovation':\n",
            "Displaying 25 of 76 matches:\n",
            "ments progress science research climate innovation fund policy advocacy strategic partners\n",
            "llion impact investment capital climate innovation overview reviewing progress learnings f\n",
            "bility new climate technologies climate innovation fund strengthening climate policy agend\n",
            "global community needs partnerships new innovation policies global commitment ensure healt\n",
            "released initial ro admap cop27 climate innovation fund believe innovation critical compon\n",
            "p cop27 climate innovation fund believe innovation critical component solving climate cris\n",
            "icrosoft investing accelerating climate innovation billion climate innovation fund cif inv\n",
            "ting climate innovation billion climate innovation fund cif invest innovation technologies\n",
            "lion climate innovation fund cif invest innovation technologies business models potential \n",
            "e work data labs informed new africa ai innovation council comprised representatives leadi\n",
            "lopment sustainability workforce decade innovation decisive action look toward remain opti\n",
            "emissions measurement compliance decade innovation decisive action expanding use ai addres\n",
            "allenges must remain focused developing innovation new solutions many cases accelerating a\n",
            "advocacy work around world 600m climate innovation since inception microsoft allocated mil\n",
            "llion impact investment capital climate innovation fund global portfolio investments featu\n",
            "plier investor employer policy advocate innovation partner know take commitment across ent\n",
            "ocus larger impact research investments innovation strategic partnerships policy advocacy \n",
            "ft committed sharing progress learnings innovation methodology development thought leaders\n",
            "orce sustainability experts development innovation technology solutions customers report t\n",
            "purchasing investing power help advance innovation development new us meet commitments cat\n",
            "cularity cloud hardware microsoft taken innovation approach implementing circular centers \n",
            "tnership alaska airlines twelve climate innovation fund investee operate first demonstrati\n",
            "bility go beyond business usual deliver innovation new goods services decarbonization tech\n",
            "s new approach one prioritizes learning innovation experience enacting scope strategy incr\n",
            "inability initiatives microsoft climate innovation fund carbon fee position us invest purc\n"
          ]
        }
      ]
    },
    {
      "cell_type": "markdown",
      "source": [
        "Observations about Sustainability:\n",
        "\n",
        "Microsoft has released an Environmental Sustainability Report, emphasizing the company's commitments and progress in sustainability.\n",
        "The report covers the company's work in reducing carbon footprint, green software, sustainable device plans, and more.\n",
        "The company is driving sustainability globally, including advancing global sustainability initiatives through tools like the Microsoft Cloud Sustainability Management Tool.\n",
        "Microsoft Cloud Sustainability is a comprehensive suite covering sustainability management tools that contribute to advancing global sustainability initiatives.\n",
        "\n",
        "Observations about Innovation:\n",
        "\n",
        "Microsoft is investing in and accelerating climate innovation, establishing the Climate Innovation Fund with billions of dollars to support innovative technology development.\n",
        "The company is driving new climate technology through research, policy advocacy, and strategic partnerships.\n",
        "Microsoft is committed to sharing progress, learning, and innovation methodologies, with a focus on larger\n",
        " and research investment.\n",
        "The company is investing in innovative water technologies, recognizing the importance of innovation in addressing water challenges.\n",
        "\n",
        "Overall Observations:\n",
        "Sustainability and innovation are closely intertwined in Microsoft's strategy. The company is not only committed to advancing sustainability but also views innovation as a key component in addressing global climate issues. Initiatives like the Climate Innovation Fund and global sustainability efforts demonstrate Microsoft's integrated approach, where sustainability and innovation complement each other in the company's sustainable development strategy."
      ],
      "metadata": {
        "id": "DYtFqZ9-fmlj"
      }
    },
    {
      "cell_type": "markdown",
      "source": [
        "### Similar Word Analysis\n",
        "\n",
        "Then let's now see which words appear in similar contexts as the word \"sustainability\" and 'innovation'.  [Krisel,2023](https://github.com/rskrisel/intro_to_nltk/blob/main/Intro_NLTK_workshop.ipynb)"
      ],
      "metadata": {
        "id": "Yk-g055AM610"
      }
    },
    {
      "cell_type": "code",
      "source": [
        "text_object_Microsoft.similar('sustainability')"
      ],
      "metadata": {
        "colab": {
          "base_uri": "https://localhost:8080/"
        },
        "id": "w8lHk1h8fA4a",
        "outputId": "48e50113-672d-41b0-c583-a96cdae787aa"
      },
      "execution_count": null,
      "outputs": [
        {
          "output_type": "stream",
          "name": "stdout",
          "text": [
            "green hardware environmental microsoft devices science new drive help\n",
            "impacts reduction services renewable among materials demand justice\n",
            "entire footprints opened\n"
          ]
        }
      ]
    },
    {
      "cell_type": "code",
      "source": [
        "text_object_Microsoft.similar('innovation')"
      ],
      "metadata": {
        "colab": {
          "base_uri": "https://localhost:8080/"
        },
        "id": "bsojdG8_fxP7",
        "outputId": "35292482-e835-42d0-e519-4c5fd30aef15"
      },
      "execution_count": null,
      "outputs": [
        {
          "output_type": "stream",
          "name": "stdout",
          "text": [
            "impact change water action availability advancing improvements pledge\n",
            "efficient local content\n"
          ]
        }
      ]
    },
    {
      "cell_type": "markdown",
      "source": [
        "Sustainability: The words associated with 'sustainability' include \"green,\" \"hardware,\" \"environmental,\" \"renewable,\" and \"footprints,\" suggesting a direct connection to environmental efforts and concrete sustainability measures. These words indicate a focus on tangible aspects of sustainability, such as eco-friendly products (\"green hardware\"), environmental impact (\"environmental,\" \"footprints\"), and sustainable energy sources (\"renewable\").\n",
        "\n",
        "Innovation: For 'innovation', the associated words are \"impact,\" \"change,\" \"action,\" \"advancing,\" \"improvements,\" \"pledge,\" \"efficient,\" and \"local content.\" These words reflect a proactive and aspirational stance on innovation, pointing to the desire to effect positive change (\"impact,\" \"change\") and take concrete steps (\"action\") towards sustainability goals\n"
      ],
      "metadata": {
        "id": "mkUT1gsAQd0i"
      }
    },
    {
      "cell_type": "markdown",
      "source": [
        "### TF-IDF Anaylsis\n",
        "Here I use TF-IDF to find out the top 10 words with the highest tf–idf for the text, but unfortunately I could not find relationship between 'sustainability' and 'innovation.  [Krisel,2023](https://github.com/rskrisel/tf-idf/blob/main/README.md)"
      ],
      "metadata": {
        "id": "r21D_daCNAhz"
      }
    },
    {
      "cell_type": "code",
      "source": [
        "from sklearn.feature_extraction.text import TfidfVectorizer\n",
        "\n",
        "# Assuming you have a list of cleaned texts\n",
        "\n",
        "# Create a TF-IDF vectorizer\n",
        "vectorizer = TfidfVectorizer(stop_words='english')\n",
        "\n",
        "# Fit and transform the cleaned texts\n",
        "tfidf_matrix = vectorizer.fit_transform(cleaned_text_Microsoft)\n",
        "\n",
        "# Get feature names (words)\n",
        "feature_names = vectorizer.get_feature_names_out()\n",
        "\n",
        "# Calculate the average TF-IDF score for each word across all texts\n",
        "average_tfidf_scores = tfidf_matrix.mean(axis=0).A1\n",
        "\n",
        "# Create a dictionary mapping words to their average TF-IDF scores\n",
        "word_tfidf_dict = dict(zip(feature_names, average_tfidf_scores))\n",
        "\n",
        "# Sort the dictionary by TF-IDF scores\n",
        "sorted_word_tfidf = sorted(word_tfidf_dict.items(), key=lambda x: x[1], reverse=True)\n",
        "\n",
        "# Print the most distinctive words\n",
        "print(\"Most distinctive words:\")\n",
        "for word, tfidf_score in sorted_word_tfidf[:5]:\n",
        "    print(f\"{word}: {tfidf_score}\")"
      ],
      "metadata": {
        "id": "cBql3tuwfzL5"
      },
      "execution_count": null,
      "outputs": []
    },
    {
      "cell_type": "markdown",
      "source": [
        "\n",
        "\n",
        "### Report 4: The Sustainable Development Goals Report 2023\n",
        "\n",
        "#### Extracting text from PDF file:\n",
        "\n",
        "Here I ask ChatGPT 'How to conduct text analysis on a PDF file'.\n"
      ],
      "metadata": {
        "id": "HQAf13eUNDxC"
      }
    },
    {
      "cell_type": "code",
      "source": [
        "!pip install pymupdf\n",
        "\n",
        "import fitz  # PyMuPDF\n",
        "\n",
        "def pdf_to_text(pdf_path):\n",
        "    text = \"\"\n",
        "    with fitz.open(pdf_path) as pdf_doc:\n",
        "        num_pages = pdf_doc.page_count\n",
        "        for page_num in range(num_pages):\n",
        "            page = pdf_doc[page_num]\n",
        "            text += page.get_text()\n",
        "    return text\n",
        "\n",
        "pdf_path = \"/content/The-Sustainable-Development-Goals-Report-2023.pdf\"\n",
        "extracted_text_UN = pdf_to_text(pdf_path)\n",
        "print(extracted_text_UN)"
      ],
      "metadata": {
        "id": "XkK0TKggiCK4"
      },
      "execution_count": null,
      "outputs": []
    },
    {
      "cell_type": "markdown",
      "source": [
        "### Text Cleaning\n",
        "\n",
        "Then I am preparing the text for analysis by tokenizing, converting to lowercase, removing stopwords, and lemmatizing. The cleaned text is then stored in a file for further use. [Krisel,2023](https://github.com/rskrisel/intro_to_nltk/blob/main/Intro_NLTK_workshop.ipynb)"
      ],
      "metadata": {
        "id": "g00Bkx8PNLqF"
      }
    },
    {
      "cell_type": "code",
      "source": [
        "import nltk\n",
        "from nltk.corpus import stopwords\n",
        "from nltk.stem import WordNetLemmatizer\n",
        "from nltk import word_tokenize\n",
        "\n",
        "# Download necessary NLTK resources\n",
        "nltk.download(['stopwords', 'punkt', 'wordnet'])\n",
        "\n",
        "# Define stopwords and lemmatizer\n",
        "stops = set(stopwords.words(\"english\"))\n",
        "lemmatizer = WordNetLemmatizer()\n",
        "\n",
        "def clean_text(text):\n",
        "    \"\"\"\n",
        "    Clean and lemmatize text.\n",
        "    Converts words to lower case, removes stopwords and digits,\n",
        "    and maps related terms to a unified representative term.\n",
        "    \"\"\"\n",
        "    text_tokens = word_tokenize(text)\n",
        "    text_lower = [t.lower() for t in text_tokens if t.isalnum() and not t.isdigit()]\n",
        "    text_stops = [t for t in text_lower if t not in stops]\n",
        "\n",
        "    unified_terms = {\n",
        "        'sustainability': 'sustainability',\n",
        "        'sustainable': 'sustainability',\n",
        "        'innovation': 'innovation',\n",
        "        'innovative': 'innovation',\n",
        "        'innovate': 'innovation'\n",
        "    }\n",
        "\n",
        "    # Lemmatize without considering the part of speech\n",
        "    text_clean = [unified_terms.get(lemmatizer.lemmatize(t), t) for t in text_stops]\n",
        "    return text_clean\n",
        "\n",
        "cleaned_text_UN = clean_text(extracted_text_UN)\n",
        "\n",
        "# Store the cleaned text in a file\n",
        "with open(\"cleaned_text_Mckinsey.txt\", \"w\", encoding='utf-8') as file:\n",
        "    file.write(\" \".join(cleaned_text_UN))  # Join the cleaned text into a single string for writing to the file\n"
      ],
      "metadata": {
        "colab": {
          "base_uri": "https://localhost:8080/"
        },
        "id": "CYcLOqaSjBEU",
        "outputId": "238d6c9e-713e-40e7-ea7b-e5e7e1ce221c"
      },
      "execution_count": 2,
      "outputs": [
        {
          "output_type": "stream",
          "name": "stderr",
          "text": [
            "[nltk_data] Downloading package stopwords to /root/nltk_data...\n",
            "[nltk_data]   Unzipping corpora/stopwords.zip.\n",
            "[nltk_data] Downloading package punkt to /root/nltk_data...\n",
            "[nltk_data]   Unzipping tokenizers/punkt.zip.\n",
            "[nltk_data] Downloading package wordnet to /root/nltk_data...\n"
          ]
        }
      ]
    },
    {
      "cell_type": "markdown",
      "source": [
        "### Term Frequency Analysis & Visualization\n",
        "\n",
        "Here I used Term Frequency Method to display the top 10 most common words, then I use matplotlib to generate a horizontal bar chart that visualizes the frequency distribution of the top 20 words with the aim to gain insights into the most prevalent words in our cleaned_text document."
      ],
      "metadata": {
        "id": "szNHI8KBNQpm"
      }
    },
    {
      "cell_type": "code",
      "source": [
        "import nltk\n",
        "from nltk import FreqDist\n",
        "import numpy as np\n",
        "import matplotlib.pyplot as plt\n",
        "\n",
        "my_dist = FreqDist(cleaned_text_UN)\n",
        "\n",
        "# Get the top 30 words and their frequencies\n",
        "top_words = [word[0] for word in my_dist.most_common(30)]\n",
        "word_frequencies = [word[1] for word in my_dist.most_common(30)]\n",
        "\n",
        "# Plot the bar chart\n",
        "plt.figure(figsize=(10, 8), dpi=80)\n",
        "colors = ['red' if word == 'sustainability' else 'orange' for word in top_words]\n",
        "plt.barh(top_words, word_frequencies, color=colors)\n",
        "plt.title('Top 30 Words')\n",
        "plt.xlabel('Frequency')\n",
        "plt.ylabel('Words')\n",
        "plt.show()"
      ],
      "metadata": {
        "colab": {
          "base_uri": "https://localhost:8080/",
          "height": 574
        },
        "id": "htiKIkcdjRXD",
        "outputId": "efb8c08c-e403-44e6-a351-34414fc3ea4e"
      },
      "execution_count": 5,
      "outputs": [
        {
          "output_type": "display_data",
          "data": {
            "text/plain": [
              "<Figure size 800x640 with 1 Axes>"
            ],
            "image/png": "[encoded data removed]"
          },
          "metadata": {}
        }
      ]
    },
    {
      "cell_type": "markdown",
      "source": [
        "I noticed there are some words that do not hold analytical values, so I exluded some words that are irrelevent to our analysis."
      ],
      "metadata": {
        "id": "ocrP42-8NTav"
      }
    },
    {
      "cell_type": "code",
      "source": [
        "import nltk\n",
        "from nltk import FreqDist\n",
        "import numpy as np\n",
        "import matplotlib.pyplot as plt\n",
        "\n",
        "my_dist = FreqDist(cleaned_text_UN)\n",
        "exclude_words = ['per', 'cent','countries','global','goals','asia','progress','world','people','million','africa','national','billion','new','america','access','developing', 'northern','report','number','also','nations','areas','since']\n",
        "filtered_dist = {word: freq for word, freq in my_dist.items() if word not in exclude_words}\n",
        "\n",
        "# Get the top 30 words and their frequencies\n",
        "top_words = [word[0] for word in FreqDist(filtered_dist).most_common(20)]\n",
        "word_frequencies = [word[1] for word in FreqDist(filtered_dist).most_common(20)]\n",
        "\n",
        "# Plot the bar chart\n",
        "plt.figure(figsize=(10, 8), dpi=80)\n",
        "colors=['red' if word == 'sustainability' else 'green' for word in top_words]\n",
        "plt.barh(top_words, word_frequencies, color=colors)\n",
        "plt.title('Top 20 Words')\n",
        "plt.xlabel('Frequency')\n",
        "plt.ylabel('Words')\n",
        "plt.show()"
      ],
      "metadata": {
        "colab": {
          "base_uri": "https://localhost:8080/",
          "height": 574
        },
        "id": "8znt80wNxlyu",
        "outputId": "51db45d6-f5ff-4451-9691-b0a349684472"
      },
      "execution_count": 6,
      "outputs": [
        {
          "output_type": "display_data",
          "data": {
            "text/plain": [
              "<Figure size 800x640 with 1 Axes>"
            ],
            "image/png": "[encoded data removed]"
          },
          "metadata": {}
        }
      ]
    },
    {
      "cell_type": "markdown",
      "source": [
        "As we can see from the above that innovation is not part of the most common 20 words, so I am using FreqDist function to understand the frequency of the word 'innovation'"
      ],
      "metadata": {
        "id": "C0xrvMhhNaEq"
      }
    },
    {
      "cell_type": "code",
      "source": [
        "from nltk import FreqDist\n",
        "\n",
        "my_dist = FreqDist(cleaned_text_UN)\n",
        "\n",
        "# Get the frequencies of the target words\n",
        "word_frequencies_innovation = my_dist['innovation']\n",
        "word_frequencies_sustainability = my_dist['sustainability']\n",
        "\n",
        "print(\"Term frequency of 'innovation':\", word_frequencies_innovation)\n",
        "print(\"Term frequency of ' sustainability':\", word_frequencies_sustainability)\n"
      ],
      "metadata": {
        "colab": {
          "base_uri": "https://localhost:8080/"
        },
        "id": "AMDSqWZ-jg3_",
        "outputId": "5f3d16cc-59f7-4e0f-ae8d-9b895f2a264b"
      },
      "execution_count": 7,
      "outputs": [
        {
          "output_type": "stream",
          "name": "stdout",
          "text": [
            "Term frequency of 'innovation': 32\n",
            "Term frequency of ' sustainability': 208\n"
          ]
        }
      ]
    },
    {
      "cell_type": "markdown",
      "source": [
        "Here I generate a bar chart visualizing the term frequencies of 'sustainability' and 'innovation' using Seaborn, providing a quick visual comparison of the frequencies of these terms."
      ],
      "metadata": {
        "id": "i982aBq1NcqP"
      }
    },
    {
      "cell_type": "code",
      "source": [
        "import pandas as pd\n",
        "import seaborn as sns\n",
        "\n",
        "# Create a DataFrame for term frequency\n",
        "term_freq_df = pd.DataFrame({'Term': ['sustainability', 'innovation'],\n",
        "                             'Frequency': [208, 32]})\n",
        "\n",
        "# Create a bar chart\n",
        "plt.figure(figsize=(8, 5))\n",
        "sns.barplot(x='Term', y='Frequency', data=term_freq_df, palette='viridis')\n",
        "plt.title('Term Frequency Bar Chart')\n",
        "plt.show()"
      ],
      "metadata": {
        "colab": {
          "base_uri": "https://localhost:8080/",
          "height": 487
        },
        "id": "fVmhOH1yhpjW",
        "outputId": "ad497523-fda5-4d1b-d3f9-7983dc425648"
      },
      "execution_count": 8,
      "outputs": [
        {
          "output_type": "display_data",
          "data": {
            "text/plain": [
              "<Figure size 800x500 with 1 Axes>"
            ],
            "image/png": "[encoded data removed]"
          },
          "metadata": {}
        }
      ]
    },
    {
      "cell_type": "markdown",
      "source": [
        "### Corcordance Analysis\n",
        "\n",
        "Then I used the concordance method to understand how \"sustainability\" and \"innovation\" are used in the cleaned_text by displaying the surrounding words. [Krisel,2023](https://github.com/rskrisel/intro_to_nltk/blob/main/Intro_NLTK_workshop.ipynb)"
      ],
      "metadata": {
        "id": "0hLF7lnWNe_l"
      }
    },
    {
      "cell_type": "code",
      "source": [
        "import nltk\n",
        "from nltk import Text\n",
        "\n",
        "# Assuming 'cleaned_text' contains the cleaned text from the previous code\n",
        "text_object_UN = Text(cleaned_text_UN)\n",
        "\n",
        "# Find the concordance of 'sustainability'\n",
        "print(\"Concordance for 'sustainability':\")\n",
        "text_object_UN.concordance(\"sustainability\",width=90)\n",
        "\n",
        "# Find the concordance of 'innovation'\n",
        "print(\"\\nConcordance for 'innovation':\")\n",
        "text_object_UN.concordance(\"innovation\",width=90)\n"
      ],
      "metadata": {
        "colab": {
          "base_uri": "https://localhost:8080/"
        },
        "id": "hJWWaW44jnOl",
        "outputId": "bd7b0adb-14bd-42e5-dda7-3e48f63ec9db"
      },
      "execution_count": 9,
      "outputs": [
        {
          "output_type": "stream",
          "name": "stdout",
          "text": [
            "Concordance for 'sustainability':\n",
            "Displaying 25 of 208 matches:\n",
            " sustainability development goals report special edit\n",
            "ucture goal reduced inequalities goal sustainability cities communities goal responsible c\n",
            "ple planet visual summary note reader sustainability development goals report special edit\n",
            "ion towards rescue plan people planet sustainability development goals report foreword hal\n",
            "aring brunt collective failure invest sustainability development goals sdgs many face huge\n",
            " developing countries special edition sustainability development goals report reminds us s\n",
            "lign private sector governance models sustainability development objectives could spark si\n",
            "s midpoint words truer ever us ensure sustainability development goals achieved full time \n",
            "ime li junhua economic social affairs sustainability development goals report early effort\n",
            "evelopment goals report early efforts sustainability development goals adopted produced fa\n",
            "rogress time sound alarm midpoint way sustainability development goals deep trouble assess\n",
            " one behind defining principle agenda sustainability development shared promise every coun\n",
            "thriving planet halfway promise peril sustainability development goals disappearing mirror\n",
            "ened extinction lack progress towards sustainability development goals universal abundantl\n",
            "ternational community global alliance sustainability development action across business ci\n",
            "net building evidence captured global sustainability development report lessons since pres\n",
            "nally internationally deliver promise sustainability development goals governments advance\n",
            "ccelerated progress towards achieving sustainability development goals international commu\n",
            "t needed developing countries achieve sustainability development goals particularly specia\n",
            "em tackle emerging challenges address sustainability development gaps weaknesses internati\n",
            "ed since five key areas urgent action sustainability development goals report first heads \n",
            "nally internationally deliver promise sustainability development goals calls strengthening\n",
            " support developing countries advance sustainability development action member states adop\n",
            "duce risks disasters build integrated sustainability food water sanitation systems making \n",
            "ccelerated progress towards achieving sustainability development goals delivery sustainabi\n",
            "\n",
            "Concordance for 'innovation':\n",
            "Displaying 25 of 32 matches:\n",
            "cent work economic growth goal industry innovation infrastructure goal reduced inequalitie\n",
            "st accountability steps like regulatory innovation align private sector governance models \n",
            "ctory know data demand agenda unleashed innovation unprecedented data demand driven agenda\n",
            "emand driven agenda acted catalyst data innovation example household surveys longstanding \n",
            "ging data gaps another important aspect innovation focuses integration multiple data sourc\n",
            "nia statistical master plan exemplifies innovation mindset prioritizing strengthening admi\n",
            "satellite imagery household survey data innovation approach known small area estimation ga\n",
            "ernment entities recognition importance innovation continued support essential nearly per \n",
            " data sdgs international collaborations innovation approaches best practices shared empowe\n",
            "include increasing investment promoting innovation based action enhancing coordination coo\n",
            "ility development goals report industry innovation infrastructure manufacturing industry r\n",
            "s acres agricultural land goal industry innovation infrastructure global research developm\n",
            "ed per cent global researchers leverage innovation recovery sustainability development str\n",
            "ing power drive markets towards greener innovation products services supporting sustainabi\n",
            "nces dimensions localization goals data innovation planning policy coherence project devel\n",
            "d per cent greater use new data sources innovation approaches including geospatial informa\n",
            "rrent levels embracing new data sources innovation approaches adopting data governance pro\n",
            "bacil fábio veras soares next practices innovation social protection responses beyond undp\n",
            "enefits new technologies fruits science innovation continue favour countries benefitted hi\n",
            " access global trade science technology innovation deliver sustainability development goal\n",
            "icy space implement coherent industrial innovation trade investment policies mainstream tr\n",
            "change revolutionize science technology innovation capacities exchanges capacity humanity \n",
            "apacity humanity use science technology innovation confront crises transformative ways sci\n",
            " transformative ways science technology innovation deliver public good clear pandemic pote\n",
            "r pandemic potential science technology innovation applied sustainability development goal\n"
          ]
        }
      ]
    },
    {
      "cell_type": "markdown",
      "source": [
        "Sustainability: The UN report emphasizes the importance of sustainable development goals (SDGs), highlighting efforts to address inequalities, create sustainable cities, and integrate sustainability into governance models. It notes the significant challenges and the need for increased investment in sustainability.\n",
        "\n",
        "Innovation: The report discusses the role of innovation in achieving SDGs, including the use of data and technology. It highlights the need for innovative governance models and data-driven approaches to tackle global challenges.\n",
        "\n",
        "Relationship Between Sustainability and Innovation: The UN report suggests a strong link between sustainability and innovation. It underscores the necessity of innovative solutions and strategies to achieve sustainability goals, particularly in the context of global challenges and development objectives.\n",
        "\n",
        "In summary, the report illustrates that sustainability and innovation are interconnected, with innovation being crucial for advancing sustainability goals. The focus is on utilizing innovative approaches to address and fulfill sustainability commitments and objectives."
      ],
      "metadata": {
        "id": "47lRcV7rQEvi"
      }
    },
    {
      "cell_type": "markdown",
      "source": [
        "### Similar Word Analysis\n",
        "\n",
        "Then let's now see which words appear in similar contexts as the word \"sustainability\" and 'innovation'. But in this context, since there is no similar word to 'innovation', I could not reach any conclusion.    [Krisel,2023](https://github.com/rskrisel/intro_to_nltk/blob/main/Intro_NLTK_workshop.ipynb)"
      ],
      "metadata": {
        "id": "NTMHY2FIQRLY"
      }
    },
    {
      "cell_type": "code",
      "source": [
        "text_object_UN.similar('sustainability')"
      ],
      "metadata": {
        "colab": {
          "base_uri": "https://localhost:8080/"
        },
        "id": "4hAOe7ihkwNi",
        "outputId": "dd90ae9b-529e-440e-9d4d-2aeb4670ee70"
      },
      "execution_count": 10,
      "outputs": [
        {
          "output_type": "stream",
          "name": "stdout",
          "text": [
            "goals growth finance official multilateral rights implementation\n",
            "agriculture statistics enabling capital industrial research encourage\n",
            "peacebuilders millennium\n"
          ]
        }
      ]
    },
    {
      "cell_type": "code",
      "source": [
        "text_object_UN.similar('innovation')"
      ],
      "metadata": {
        "colab": {
          "base_uri": "https://localhost:8080/"
        },
        "id": "o4rKn2Bgk265",
        "outputId": "970f2189-cbd6-4249-cabb-1fd2456d6c55"
      },
      "execution_count": 11,
      "outputs": [
        {
          "output_type": "stream",
          "name": "stdout",
          "text": [
            "\n"
          ]
        }
      ]
    },
    {
      "cell_type": "markdown",
      "source": [
        "### TF-IDF Anaylsis\n",
        "Here I use TF-IDF to find out the top 10 words with the highest tf–idf for the text, but unfortunately I could not find relationship between 'sustainability' and 'innovation.  [Krisel,2023](https://github.com/rskrisel/tf-idf/blob/main/README.md)"
      ],
      "metadata": {
        "id": "xd6DK0TDOx0n"
      }
    },
    {
      "cell_type": "code",
      "source": [
        "from sklearn.feature_extraction.text import TfidfVectorizer\n",
        "\n",
        "# Assuming you have a list of cleaned texts\n",
        "\n",
        "# Create a TF-IDF vectorizer\n",
        "vectorizer = TfidfVectorizer(stop_words='english')\n",
        "\n",
        "# Fit and transform the cleaned texts\n",
        "tfidf_matrix = vectorizer.fit_transform(cleaned_text_UN)\n",
        "\n",
        "# Get feature names (words)\n",
        "feature_names = vectorizer.get_feature_names_out()\n",
        "\n",
        "# Calculate the average TF-IDF score for each word across all texts\n",
        "average_tfidf_scores = tfidf_matrix.mean(axis=0).A1\n",
        "\n",
        "# Create a dictionary mapping words to their average TF-IDF scores\n",
        "word_tfidf_dict = dict(zip(feature_names, average_tfidf_scores))\n",
        "\n",
        "# Sort the dictionary by TF-IDF scores\n",
        "sorted_word_tfidf = sorted(word_tfidf_dict.items(), key=lambda x: x[1], reverse=True)\n",
        "\n",
        "# Print the most distinctive words\n",
        "print(\"Most distinctive words:\")\n",
        "for word, tfidf_score in sorted_word_tfidf[:5]:\n",
        "    print(f\"{word}: {tfidf_score}\")"
      ],
      "metadata": {
        "colab": {
          "base_uri": "https://localhost:8080/"
        },
        "id": "5PqxbMCxOmsm",
        "outputId": "454971d5-a9c8-444d-f4bd-6e01a1eb853f"
      },
      "execution_count": 13,
      "outputs": [
        {
          "output_type": "stream",
          "name": "stdout",
          "text": [
            "Most distinctive words:\n",
            "cent: 0.016098484848484917\n",
            "countries: 0.013560606060606113\n",
            "global: 0.009356060606060632\n",
            "development: 0.008219696969696988\n",
            "data: 0.008106060606060624\n"
          ]
        }
      ]
    },
    {
      "cell_type": "markdown",
      "source": [
        "### IV: Conclusion\n",
        "\n",
        "In conclusion, my research based on 4 companies' reports revealed that sustainability may not have robust correlation between company sustainability and innovation efforts. But Innovation is likely seen as a necessary tool for achieving sustainability goals. While innovation is more aspirational, sustainability efforts are grounded in concrete actions and commitments that require innovative thinking. This demonstrates a relationship where sustainability challenges drive innovation, and innovative practices lead to more effective sustainability outcomes.\n"
      ],
      "metadata": {
        "id": "Wp8DzS4hO34H"
      }
    }
  ]
}